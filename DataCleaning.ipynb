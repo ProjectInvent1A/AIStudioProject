{
 "cells": [
  {
   "cell_type": "code",
   "execution_count": 2,
   "metadata": {},
   "outputs": [
    {
     "name": "stdout",
     "output_type": "stream",
     "text": [
      "['org_ein', 'name', 'city', 'state', 'country', 'category']\n",
      "['org_ein', 'state', 'state_name', 'name', 'address', 'city', 'fips', 'ruledate', 'nteecc', 'region', 'division']\n"
     ]
    },
    {
     "data": {
      "text/html": [
       "<div>\n",
       "<style scoped>\n",
       "    .dataframe tbody tr th:only-of-type {\n",
       "        vertical-align: middle;\n",
       "    }\n",
       "\n",
       "    .dataframe tbody tr th {\n",
       "        vertical-align: top;\n",
       "    }\n",
       "\n",
       "    .dataframe thead th {\n",
       "        text-align: right;\n",
       "    }\n",
       "</style>\n",
       "<table border=\"1\" class=\"dataframe\">\n",
       "  <thead>\n",
       "    <tr style=\"text-align: right;\">\n",
       "      <th></th>\n",
       "      <th>org_ein</th>\n",
       "      <th>name</th>\n",
       "      <th>city</th>\n",
       "      <th>state</th>\n",
       "    </tr>\n",
       "  </thead>\n",
       "  <tbody>\n",
       "    <tr>\n",
       "      <th>0</th>\n",
       "      <td>587764</td>\n",
       "      <td>Iglesia Bethesda Inc.</td>\n",
       "      <td>Lowell</td>\n",
       "      <td>MA</td>\n",
       "    </tr>\n",
       "    <tr>\n",
       "      <th>1</th>\n",
       "      <td>635913</td>\n",
       "      <td>Ministerio Apostolico Jesucristo Es El Senor Inc.</td>\n",
       "      <td>Lawrence</td>\n",
       "      <td>MA</td>\n",
       "    </tr>\n",
       "    <tr>\n",
       "      <th>2</th>\n",
       "      <td>765634</td>\n",
       "      <td>Mercy Chapel International</td>\n",
       "      <td>Mattapan</td>\n",
       "      <td>MA</td>\n",
       "    </tr>\n",
       "    <tr>\n",
       "      <th>3</th>\n",
       "      <td>841363</td>\n",
       "      <td>Agape House of Prayer</td>\n",
       "      <td>Mattapan</td>\n",
       "      <td>MA</td>\n",
       "    </tr>\n",
       "    <tr>\n",
       "      <th>4</th>\n",
       "      <td>852649</td>\n",
       "      <td>Bethany Presbyterian Church</td>\n",
       "      <td>Brookline</td>\n",
       "      <td>MA</td>\n",
       "    </tr>\n",
       "  </tbody>\n",
       "</table>\n",
       "</div>"
      ],
      "text/plain": [
       "   org_ein                                               name       city state\n",
       "0   587764                              Iglesia Bethesda Inc.     Lowell    MA\n",
       "1   635913  Ministerio Apostolico Jesucristo Es El Senor Inc.   Lawrence    MA\n",
       "2   765634                         Mercy Chapel International   Mattapan    MA\n",
       "3   841363                              Agape House of Prayer   Mattapan    MA\n",
       "4   852649                        Bethany Presbyterian Church  Brookline    MA"
      ]
     },
     "execution_count": 2,
     "metadata": {},
     "output_type": "execute_result"
    }
   ],
   "source": [
    "# Importing libraries\n",
    "import os\n",
    "import pandas as pd\n",
    "import numpy as np\n",
    "\n",
    "# Saving the CSV file paths into variables\n",
    "\n",
    "pub78_path = \"data-download-pub78.csv\"\n",
    "CBDO_path = \"CBDO Population Dataset.csv\"\n",
    "\n",
    "# Making dataframes of the CSV files' data\n",
    "pub78_dataframe = pd.read_csv(pub78_path, sep = \",\")\n",
    "CBDO_dataframe = pd.read_csv(CBDO_path, sep = \",\")\n",
    "\n",
    "# Finding the column names of each dataframe\n",
    "pub78_columns = [column for column in pub78_dataframe.columns]\n",
    "CBDO_columns = [column for column in CBDO_dataframe.columns]\n",
    "print(pub78_columns)\n",
    "print(CBDO_columns)\n",
    "\n",
    "# Concatenating the two dataframes\n",
    "dataframe = pd.concat([pub78_dataframe, CBDO_dataframe])\n",
    "\n",
    "# Dropping the unnecessary columns\n",
    "dataframe_columns = []\n",
    "for pub78_column in pub78_columns:\n",
    "  if pub78_column in CBDO_columns:\n",
    "    dataframe_columns.append(pub78_column)\n",
    "\n",
    "columns_kept = dataframe.drop(columns = dataframe_columns)\n",
    "dataframe = dataframe.drop(columns = columns_kept.columns)\n",
    "dataframe.head()"
   ]
  }
 ],
 "metadata": {
  "kernelspec": {
   "display_name": "base",
   "language": "python",
   "name": "python3"
  },
  "language_info": {
   "codemirror_mode": {
    "name": "ipython",
    "version": 3
   },
   "file_extension": ".py",
   "mimetype": "text/x-python",
   "name": "python",
   "nbconvert_exporter": "python",
   "pygments_lexer": "ipython3",
   "version": "3.9.12"
  }
 },
 "nbformat": 4,
 "nbformat_minor": 2
}
