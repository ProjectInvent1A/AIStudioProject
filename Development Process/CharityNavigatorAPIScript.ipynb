{
  "nbformat": 4,
  "nbformat_minor": 0,
  "metadata": {
    "colab": {
      "provenance": [],
      "authorship_tag": "ABX9TyMQ+FC+FieFL9IinVfjs9XS",
      "include_colab_link": true
    },
    "kernelspec": {
      "name": "python3",
      "display_name": "Python 3"
    },
    "language_info": {
      "name": "python"
    }
  },
  "cells": [
    {
      "cell_type": "markdown",
      "metadata": {
        "id": "view-in-github",
        "colab_type": "text"
      },
      "source": [
        "<a href=\"https://colab.research.google.com/github/ProjectInvent1A/AIStudioProject/blob/main/Development%20Process/CharityNavigatorAPIScript.ipynb\" target=\"_parent\"><img src=\"https://colab.research.google.com/assets/colab-badge.svg\" alt=\"Open In Colab\"/></a>"
      ]
    },
    {
      "cell_type": "code",
      "execution_count": 1,
      "metadata": {
        "id": "Wjhj_3FJeNK-"
      },
      "outputs": [],
      "source": [
        "import requests\n",
        "import json"
      ]
    },
    {
      "cell_type": "code",
      "source": [
        "name = 'ANAHOLA HOMESTEADERS COUNCIL'\n",
        "\n",
        "url = 'https://data.charitynavigator.org/graphql'\n",
        "\n",
        "query = \"\"\"\n",
        "query PublicSearchFaceted($term: String!) {\n",
        "    publicSearchFaceted(term: $term) {\n",
        "      results {\n",
        "        ein\n",
        "        name\n",
        "        mission\n",
        "        organization_url\n",
        "        cause\n",
        "        city\n",
        "        state\n",
        "        zip\n",
        "      }\n",
        "    }\n",
        "  }\n",
        "\"\"\"\n",
        "\n",
        "variables = {\n",
        "    'term': name\n",
        "}\n",
        "\n",
        "payload = {\n",
        "    'query': query,\n",
        "    'variables': variables\n",
        "}\n",
        "\n",
        "headers = {\n",
        "    'Stellate-Api-Token' : 'stl8_18009830b2a4f44b8fba693508439c4fcf06850aa8034e98f34821f442684360',\n",
        "    'Content-Type' : 'application/json',\n",
        "    'User-Agent' : 'PostmanRuntime/7.37.3',\n",
        "    'Accept' : '*/*',\n",
        "    'Connection' : 'keep-alive'\n",
        "}\n",
        "\n",
        "response = requests.post(url, json=payload, headers=headers)\n",
        "\n",
        "print(\"response status code: \", response.status_code)\n",
        "if response.status_code == 200:\n",
        "    print(\"response : \", response.content)\n",
        "\n"
      ],
      "metadata": {
        "colab": {
          "base_uri": "https://localhost:8080/"
        },
        "id": "IOeSjzXJeyIE",
        "outputId": "eff07e8f-613b-4fdb-ee10-517a538f1b2d"
      },
      "execution_count": 2,
      "outputs": [
        {
          "output_type": "stream",
          "name": "stdout",
          "text": [
            "response status code:  200\n",
            "response :  b'{\"data\":{\"publicSearchFaceted\":{\"results\":[{\"ein\":\"990322512\",\"name\":\"ANAHOLA HOMESTEADERS COUNCIL\",\"mission\":null,\"organization_url\":null,\"cause\":\"\",\"city\":\"ANAHOLA\",\"state\":\"HI\",\"zip\":\"96703-0051\"}]}}}'\n"
          ]
        }
      ]
    }
  ]
}